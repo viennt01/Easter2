{
 "cells": [
  {
   "cell_type": "code",
   "execution_count": 1,
   "id": "ac1eb627",
   "metadata": {},
   "outputs": [
    {
     "name": "stdout",
     "output_type": "stream",
     "text": [
      "loading metdata...\n",
      "loading checkpoint...\n",
      "calculating results...\n",
      "Loading Checkpoint from: ../weights/EASTER2--100--9.51.hdf5\n"
     ]
    },
    {
     "name": "stderr",
     "output_type": "stream",
     "text": [
      "/opt/miniconda3/envs/torch-env/lib/python3.11/site-packages/keras/layers/core/lambda_layer.py:325: UserWarning: easter_model is not loaded, but a Lambda layer uses it. It may cause errors.\n",
      "  function = cls._parse_function_from_config(\n",
      "2025-06-26 22:02:20.947619: I tensorflow/core/common_runtime/executor.cc:1197] [/device:CPU:0] (DEBUG INFO) Executor start aborting (this does not indicate an error and you can ignore this message): INVALID_ARGUMENT: You must feed a value for placeholder tensor 'ctc/scan/while/Fill/ctc/stack_1' with dtype int32 and shape [1]\n",
      "\t [[{{node ctc/scan/while/Fill/ctc/stack_1}}]]\n",
      "2025-06-26 22:02:20.947668: I tensorflow/core/common_runtime/executor.cc:1197] [/device:CPU:0] (DEBUG INFO) Executor start aborting (this does not indicate an error and you can ignore this message): INVALID_ARGUMENT: You must feed a value for placeholder tensor 'ctc/scan/while/Fill/ctc/stack_1' with dtype int32 and shape [1]\n",
      "\t [[{{node ctc/scan/while/Fill/ctc/stack_1}}]]\n"
     ]
    },
    {
     "name": "stdout",
     "output_type": "stream",
     "text": [
      "Using Test Partition\n",
      "Number of Samples :  2915\n"
     ]
    },
    {
     "name": "stderr",
     "output_type": "stream",
     "text": [
      "  0%|          | 0/2915 [00:00<?, ?it/s]2025-06-26 22:02:28.371819: W tensorflow/tsl/platform/profile_utils/cpu_utils.cc:128] Failed to get CPU frequency: 0 Hz\n",
      "100%|██████████| 2915/2915 [01:57<00:00, 24.88it/s]\n"
     ]
    },
    {
     "name": "stdout",
     "output_type": "stream",
     "text": [
      "Character error rate is :  10.040378569034585\n"
     ]
    }
   ],
   "source": [
    "from predict import test_on_iam\n",
    "test_on_iam(show=False, checkpoint=\"../weights/EASTER2--100--9.51.hdf5\")\n"
   ]
  }
 ],
 "metadata": {
  "kernelspec": {
   "display_name": "torch-env",
   "language": "python",
   "name": "python3"
  },
  "language_info": {
   "codemirror_mode": {
    "name": "ipython",
    "version": 3
   },
   "file_extension": ".py",
   "mimetype": "text/x-python",
   "name": "python",
   "nbconvert_exporter": "python",
   "pygments_lexer": "ipython3",
   "version": "3.11.0"
  }
 },
 "nbformat": 4,
 "nbformat_minor": 5
}
